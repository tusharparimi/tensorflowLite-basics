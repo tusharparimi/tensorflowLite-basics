{
  "nbformat": 4,
  "nbformat_minor": 0,
  "metadata": {
    "colab": {
      "provenance": [],
      "machine_shape": "hm",
      "gpuType": "V100"
    },
    "kernelspec": {
      "name": "python3",
      "display_name": "Python 3"
    },
    "language_info": {
      "name": "python"
    },
    "accelerator": "GPU"
  },
  "cells": [
    {
      "cell_type": "code",
      "execution_count": null,
      "metadata": {
        "id": "g-sA12OfoOH2"
      },
      "outputs": [],
      "source": [
        "import numpy as np\n",
        "import tensorflow as tf\n",
        "import pathlib\n"
      ]
    },
    {
      "cell_type": "code",
      "source": [
        "dataset_url = \"https://storage.googleapis.com/download.tensorflow.org/example_images/flower_photos.tgz\"\n",
        "data_dir = tf.keras.utils.get_file('flower_photos.tar', origin=dataset_url, extract=True)\n",
        "data_dir = pathlib.Path(data_dir).with_suffix('')"
      ],
      "metadata": {
        "colab": {
          "base_uri": "https://localhost:8080/"
        },
        "id": "e46grVraoash",
        "outputId": "e4e3ca8d-d4fa-4320-ab1e-8c7cac97dc3c"
      },
      "execution_count": null,
      "outputs": [
        {
          "output_type": "stream",
          "name": "stdout",
          "text": [
            "Downloading data from https://storage.googleapis.com/download.tensorflow.org/example_images/flower_photos.tgz\n",
            "228813984/228813984 [==============================] - 6s 0us/step\n"
          ]
        }
      ]
    },
    {
      "cell_type": "code",
      "source": [
        "#data params\n",
        "batch_size = 32\n",
        "img_height = 180\n",
        "img_width = 180\n",
        "\n",
        "#train set\n",
        "train_ds = tf.keras.utils.image_dataset_from_directory(\n",
        "  data_dir,\n",
        "  validation_split=0.2,\n",
        "  subset=\"training\",\n",
        "  seed=123,\n",
        "  image_size=(img_height, img_width),\n",
        "  batch_size=batch_size)\n",
        "\n",
        "#validation set\n",
        "val_ds = tf.keras.utils.image_dataset_from_directory(\n",
        "  data_dir,\n",
        "  validation_split=0.2,\n",
        "  subset=\"validation\",\n",
        "  seed=123,\n",
        "  image_size=(img_height, img_width),\n",
        "  batch_size=batch_size)"
      ],
      "metadata": {
        "colab": {
          "base_uri": "https://localhost:8080/"
        },
        "id": "FauyeXqkpAF-",
        "outputId": "24c506e1-7db4-4bdd-bb32-ede58ad7c1aa"
      },
      "execution_count": null,
      "outputs": [
        {
          "output_type": "stream",
          "name": "stdout",
          "text": [
            "Found 3670 files belonging to 5 classes.\n",
            "Using 2936 files for training.\n",
            "Found 3670 files belonging to 5 classes.\n",
            "Using 734 files for validation.\n"
          ]
        }
      ]
    },
    {
      "cell_type": "code",
      "source": [
        "class_names=train_ds.class_names\n",
        "print(class_names)\n",
        "num_classes=len(class_names)"
      ],
      "metadata": {
        "id": "cDpC3-5lr_pT",
        "colab": {
          "base_uri": "https://localhost:8080/"
        },
        "outputId": "54b32a95-b7cf-40da-e714-88730e125470"
      },
      "execution_count": null,
      "outputs": [
        {
          "output_type": "stream",
          "name": "stdout",
          "text": [
            "['daisy', 'dandelion', 'roses', 'sunflowers', 'tulips']\n"
          ]
        }
      ]
    },
    {
      "cell_type": "code",
      "source": [
        "AUTOTUNE = tf.data.AUTOTUNE\n",
        "train_ds = train_ds.cache().shuffle(1000).prefetch(buffer_size=AUTOTUNE)\n",
        "val_ds = val_ds.cache().prefetch(buffer_size=AUTOTUNE)"
      ],
      "metadata": {
        "id": "r0VxJyFapdHx"
      },
      "execution_count": null,
      "outputs": []
    },
    {
      "cell_type": "code",
      "source": [
        "data_augmentation = tf.keras.Sequential(\n",
        "  [\n",
        "    tf.keras.layers.RandomFlip(\"horizontal\", input_shape=(img_height, img_width,3)),\n",
        "    tf.keras.layers.RandomRotation(0.1),\n",
        "    tf.keras.layers.RandomZoom(0.1),\n",
        "  ]\n",
        ")"
      ],
      "metadata": {
        "id": "duC9m24gqwc3"
      },
      "execution_count": null,
      "outputs": []
    },
    {
      "cell_type": "code",
      "source": [
        "model = tf.keras.Sequential([\n",
        "  data_augmentation,\n",
        "  tf.keras.layers.Rescaling(1./255),\n",
        "  tf.keras.layers.Conv2D(16, 3, padding='same', activation='relu'),\n",
        "  tf.keras.layers.MaxPooling2D(),\n",
        "  tf.keras.layers.Conv2D(32, 3, padding='same', activation='relu'),\n",
        "  tf.keras.layers.MaxPooling2D(),\n",
        "  tf.keras.layers.Conv2D(64, 3, padding='same', activation='relu'),\n",
        "  tf.keras.layers.MaxPooling2D(),\n",
        "  tf.keras.layers.Dropout(0.2),\n",
        "  tf.keras.layers.Flatten(),\n",
        "  tf.keras.layers.Dense(128, activation='relu'),\n",
        "  tf.keras.layers.Dense(num_classes, name=\"outputs\")\n",
        "])"
      ],
      "metadata": {
        "id": "QkGG4T7IrQYR"
      },
      "execution_count": null,
      "outputs": []
    },
    {
      "cell_type": "code",
      "source": [
        "model.compile(optimizer='adam',\n",
        "              loss=tf.keras.losses.SparseCategoricalCrossentropy(from_logits=True),\n",
        "              metrics=['accuracy'])"
      ],
      "metadata": {
        "id": "S_P_yfIRsZvY"
      },
      "execution_count": null,
      "outputs": []
    },
    {
      "cell_type": "code",
      "source": [
        "epochs = 15\n",
        "history = model.fit(train_ds, validation_data=val_ds, epochs=epochs)"
      ],
      "metadata": {
        "colab": {
          "base_uri": "https://localhost:8080/"
        },
        "id": "TTaCzNWQslYx",
        "outputId": "0bab10d2-caab-4144-ef6f-5e8f88249a76"
      },
      "execution_count": null,
      "outputs": [
        {
          "output_type": "stream",
          "name": "stdout",
          "text": [
            "Epoch 1/15\n",
            "92/92 [==============================] - 9s 20ms/step - loss: 1.3062 - accuracy: 0.4401 - val_loss: 1.0741 - val_accuracy: 0.5736\n",
            "Epoch 2/15\n",
            "92/92 [==============================] - 1s 10ms/step - loss: 1.0382 - accuracy: 0.5943 - val_loss: 0.9837 - val_accuracy: 0.6308\n",
            "Epoch 3/15\n",
            "92/92 [==============================] - 1s 11ms/step - loss: 0.9501 - accuracy: 0.6349 - val_loss: 0.8995 - val_accuracy: 0.6431\n",
            "Epoch 4/15\n",
            "92/92 [==============================] - 1s 10ms/step - loss: 0.8710 - accuracy: 0.6638 - val_loss: 0.9444 - val_accuracy: 0.6213\n",
            "Epoch 5/15\n",
            "92/92 [==============================] - 1s 10ms/step - loss: 0.8105 - accuracy: 0.6918 - val_loss: 0.8679 - val_accuracy: 0.6798\n",
            "Epoch 6/15\n",
            "92/92 [==============================] - 1s 10ms/step - loss: 0.7790 - accuracy: 0.7006 - val_loss: 0.8284 - val_accuracy: 0.6717\n",
            "Epoch 7/15\n",
            "92/92 [==============================] - 1s 10ms/step - loss: 0.7246 - accuracy: 0.7204 - val_loss: 0.7864 - val_accuracy: 0.6798\n",
            "Epoch 8/15\n",
            "92/92 [==============================] - 1s 10ms/step - loss: 0.7089 - accuracy: 0.7241 - val_loss: 0.7308 - val_accuracy: 0.7139\n",
            "Epoch 9/15\n",
            "92/92 [==============================] - 1s 10ms/step - loss: 0.6726 - accuracy: 0.7442 - val_loss: 0.7444 - val_accuracy: 0.7193\n",
            "Epoch 10/15\n",
            "92/92 [==============================] - 1s 10ms/step - loss: 0.6439 - accuracy: 0.7599 - val_loss: 0.6845 - val_accuracy: 0.7316\n",
            "Epoch 11/15\n",
            "92/92 [==============================] - 1s 10ms/step - loss: 0.6247 - accuracy: 0.7646 - val_loss: 0.7359 - val_accuracy: 0.7221\n",
            "Epoch 12/15\n",
            "92/92 [==============================] - 1s 10ms/step - loss: 0.5995 - accuracy: 0.7684 - val_loss: 0.7188 - val_accuracy: 0.7330\n",
            "Epoch 13/15\n",
            "92/92 [==============================] - 1s 10ms/step - loss: 0.5674 - accuracy: 0.7905 - val_loss: 0.7568 - val_accuracy: 0.7166\n",
            "Epoch 14/15\n",
            "92/92 [==============================] - 1s 10ms/step - loss: 0.5561 - accuracy: 0.7841 - val_loss: 0.7502 - val_accuracy: 0.7193\n",
            "Epoch 15/15\n",
            "92/92 [==============================] - 1s 10ms/step - loss: 0.5294 - accuracy: 0.8001 - val_loss: 0.7199 - val_accuracy: 0.7207\n"
          ]
        }
      ]
    },
    {
      "cell_type": "code",
      "source": [
        "# Convert the model.\n",
        "converter = tf.lite.TFLiteConverter.from_keras_model(model)\n",
        "tflite_model = converter.convert()\n",
        "\n",
        "# Save the model.\n",
        "with open('flower_model.tflite', 'wb') as f:\n",
        "  f.write(tflite_model)"
      ],
      "metadata": {
        "id": "ebJhlLDLstQp"
      },
      "execution_count": null,
      "outputs": []
    },
    {
      "cell_type": "code",
      "source": [],
      "metadata": {
        "id": "n3nMVOC9tmrz"
      },
      "execution_count": null,
      "outputs": []
    }
  ]
}